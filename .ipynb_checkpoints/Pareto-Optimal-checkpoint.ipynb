{
 "cells": [
  {
   "cell_type": "code",
   "execution_count": 1,
   "metadata": {},
   "outputs": [],
   "source": [
    "import benders\n",
    "import datetime"
   ]
  },
  {
   "cell_type": "code",
   "execution_count": 2,
   "metadata": {},
   "outputs": [],
   "source": [
    "# Customer number\n",
    "n = 300\n",
    "# Facility candidates\n",
    "m = 10\n",
    "# Instance save to local file name\n",
    "fileName = \"test.dat\"\n",
    "# Generate instance\n",
    "instance = benders.generateInstance(n, m, fileName)"
   ]
  },
  {
   "cell_type": "code",
   "execution_count": 3,
   "metadata": {},
   "outputs": [],
   "source": [
    "# Read instance from local file (easier to repeat)\n",
    "instance = benders.readInstance(fileName)"
   ]
  },
  {
   "cell_type": "code",
   "execution_count": 4,
   "metadata": {},
   "outputs": [
    {
     "name": "stdout",
     "output_type": "stream",
     "text": [
      "Academic license - for non-commercial use only\n",
      "Optimize a model with 3300 rows, 3010 columns and 9000 nonzeros\n",
      "Variable types: 3000 continuous, 10 integer (10 binary)\n",
      "Coefficient statistics:\n",
      "  Matrix range     [1e+00, 1e+00]\n",
      "  Objective range  [5e+01, 3e+03]\n",
      "  Bounds range     [1e+00, 1e+00]\n",
      "  RHS range        [1e+00, 1e+00]\n",
      "Presolve time: 0.01s\n",
      "Presolved: 3300 rows, 3010 columns, 9000 nonzeros\n",
      "Variable types: 3000 continuous, 10 integer (10 binary)\n",
      "\n",
      "Root relaxation: objective 2.876550e+04, 1077 iterations, 0.01 seconds\n",
      "\n",
      "    Nodes    |    Current Node    |     Objective Bounds      |     Work\n",
      " Expl Unexpl |  Obj  Depth IntInf | Incumbent    BestBd   Gap | It/Node Time\n",
      "\n",
      "     0     0 28765.5000    0    7          - 28765.5000      -     -    0s\n",
      "H    0     0                    31343.000000 28765.5000  8.22%     -    0s\n",
      "     0     0 28772.5000    0    7 31343.0000 28772.5000  8.20%     -    0s\n",
      "     0     0 28779.0000    0    7 31343.0000 28779.0000  8.18%     -    0s\n",
      "H    0     0                    30876.000000 28779.0000  6.79%     -    0s\n",
      "     0     0 28786.0000    0    7 30876.0000 28786.0000  6.77%     -    0s\n",
      "     0     0 28787.5000    0    7 30876.0000 28787.5000  6.76%     -    0s\n",
      "     0     0 28787.5000    0    7 30876.0000 28787.5000  6.76%     -    0s\n",
      "H    0     0                    29062.000000 28787.5000  0.94%     -    0s\n",
      "     0     0 28787.5000    0    7 29062.0000 28787.5000  0.94%     -    0s\n",
      "     0     0 28792.5000    0    7 29062.0000 28792.5000  0.93%     -    0s\n",
      "     0     0 28794.0000    0    7 29062.0000 28794.0000  0.92%     -    0s\n",
      "     0     0 28799.0000    0    7 29062.0000 28799.0000  0.90%     -    0s\n",
      "     0     0 28865.0000    0    7 29062.0000 28865.0000  0.68%     -    0s\n",
      "     0     2 28865.0000    0    7 29062.0000 28865.0000  0.68%     -    0s\n",
      "\n",
      "Cutting planes:\n",
      "  Gomory: 5\n",
      "  MIR: 1\n",
      "\n",
      "Explored 6 nodes (2209 simplex iterations) in 0.24 seconds\n",
      "Thread count was 12 (of 12 available processors)\n",
      "\n",
      "Solution count 3: 29062 30876 31343 \n",
      "\n",
      "Optimal solution found (tolerance 1.00e-04)\n",
      "Best objective 2.906200000000e+04, best bound 2.906200000000e+04, gap 0.0000%\n"
     ]
    },
    {
     "data": {
      "text/plain": [
       "{'ofv': 29062.0, 'y': [1, 3, 4, 8]}"
      ]
     },
     "execution_count": 4,
     "metadata": {},
     "output_type": "execute_result"
    }
   ],
   "source": [
    "# Directly use gruobi, which is extremely fast\n",
    "# This is not for comparison, gurobi are using some high-level techniques\n",
    "# This is for validating the optimal solution\n",
    "benders.directSolveProblem(instance)"
   ]
  },
  {
   "cell_type": "code",
   "execution_count": 5,
   "metadata": {},
   "outputs": [
    {
     "name": "stdout",
     "output_type": "stream",
     "text": [
      "Changed value of parameter lazyConstraints to 1\n",
      "   Prev: 0  Min: 0  Max: 1  Default: 0\n",
      "Add feasibility cut\n",
      "Add feasibility cut\n",
      "Add feasibility cut\n",
      "Add feasibility cut\n",
      "Add feasibility cut\n",
      "Add optimality cut\n",
      "Add optimality cut\n",
      "Add optimality cut\n",
      "Add optimality cut\n",
      "Add optimality cut\n",
      "Add optimality cut\n",
      "Add optimality cut\n",
      "Add optimality cut\n",
      "Add optimality cut\n",
      "Add optimality cut\n",
      "Add optimality cut\n",
      "Add optimality cut\n",
      "Add optimality cut\n",
      "Add optimality cut\n",
      "Add optimality cut\n",
      "Add optimality cut\n",
      "Add optimality cut\n",
      "Add optimality cut\n",
      "Add optimality cut\n",
      "Add optimality cut\n",
      "Add optimality cut\n",
      "Add optimality cut\n",
      "Add optimality cut\n",
      "Add optimality cut\n",
      "Add optimality cut\n",
      "Add optimality cut\n",
      "Add optimality cut\n",
      "Add optimality cut\n",
      "Add optimality cut\n",
      "Add optimality cut\n",
      "{'ofv': 29062.0, 'y': [1, 3, 4, 8]}\n",
      "Total time:  2.31643\n"
     ]
    }
   ],
   "source": [
    "# Use Pareto-optimal cuts to accelerate\n",
    "start = datetime.datetime.now()\n",
    "res = benders.masterProblem(instance, True)\n",
    "t = (datetime.datetime.now() - start).total_seconds()\n",
    "print(res)\n",
    "print(\"Total time: \", t)"
   ]
  },
  {
   "cell_type": "code",
   "execution_count": 6,
   "metadata": {},
   "outputs": [
    {
     "name": "stdout",
     "output_type": "stream",
     "text": [
      "Changed value of parameter lazyConstraints to 1\n",
      "   Prev: 0  Min: 0  Max: 1  Default: 0\n",
      "Add feasibility cut\n",
      "Add feasibility cut\n",
      "Add feasibility cut\n",
      "Add feasibility cut\n",
      "Add feasibility cut\n",
      "Add optimality cut\n",
      "Add optimality cut\n",
      "Add optimality cut\n",
      "Add optimality cut\n",
      "Add optimality cut\n",
      "Add optimality cut\n",
      "Add optimality cut\n",
      "Add optimality cut\n",
      "Add optimality cut\n",
      "Add optimality cut\n",
      "Add optimality cut\n",
      "Add optimality cut\n",
      "Add optimality cut\n",
      "Add optimality cut\n",
      "Add optimality cut\n",
      "Add optimality cut\n",
      "Add optimality cut\n",
      "Add optimality cut\n",
      "Add optimality cut\n",
      "Add optimality cut\n",
      "Add optimality cut\n",
      "Add optimality cut\n",
      "Add optimality cut\n",
      "Add optimality cut\n",
      "Add optimality cut\n",
      "Add optimality cut\n",
      "Add optimality cut\n",
      "Add optimality cut\n",
      "Add optimality cut\n",
      "Add optimality cut\n",
      "Add optimality cut\n",
      "Add optimality cut\n",
      "Add optimality cut\n",
      "Add optimality cut\n",
      "Add optimality cut\n",
      "Add optimality cut\n",
      "Add optimality cut\n",
      "Add optimality cut\n",
      "Add optimality cut\n",
      "Add optimality cut\n",
      "Add optimality cut\n",
      "Add optimality cut\n",
      "Add optimality cut\n",
      "Add optimality cut\n",
      "Add optimality cut\n",
      "Add optimality cut\n",
      "Add optimality cut\n",
      "Add optimality cut\n",
      "Add optimality cut\n",
      "Add optimality cut\n",
      "Add optimality cut\n",
      "Add optimality cut\n",
      "Add optimality cut\n",
      "Add optimality cut\n",
      "Add optimality cut\n",
      "Add optimality cut\n",
      "Add optimality cut\n",
      "Add optimality cut\n",
      "Add optimality cut\n",
      "Add optimality cut\n",
      "Add optimality cut\n",
      "Add optimality cut\n",
      "Add optimality cut\n",
      "{'ofv': 29062.000000000004, 'y': [1, 3, 4, 8]}\n",
      "Total time:  4.709729\n"
     ]
    }
   ],
   "source": [
    "# Not using Pareto-optimal cuts\n",
    "start = datetime.datetime.now()\n",
    "res = benders.masterProblem(instance, False)\n",
    "t = (datetime.datetime.now() - start).total_seconds()\n",
    "print(res)\n",
    "print(\"Total time: \", t)"
   ]
  },
  {
   "cell_type": "code",
   "execution_count": null,
   "metadata": {},
   "outputs": [],
   "source": []
  }
 ],
 "metadata": {
  "kernelspec": {
   "display_name": "Python 3",
   "language": "python",
   "name": "python3"
  },
  "language_info": {
   "codemirror_mode": {
    "name": "ipython",
    "version": 3
   },
   "file_extension": ".py",
   "mimetype": "text/x-python",
   "name": "python",
   "nbconvert_exporter": "python",
   "pygments_lexer": "ipython3",
   "version": "3.7.2"
  }
 },
 "nbformat": 4,
 "nbformat_minor": 2
}
