{
 "cells": [
  {
   "cell_type": "code",
   "execution_count": 1,
   "metadata": {},
   "outputs": [],
   "source": [
    "import benders\n",
    "import datetime"
   ]
  },
  {
   "cell_type": "code",
   "execution_count": 2,
   "metadata": {},
   "outputs": [],
   "source": [
    "# Customer number\n",
    "n = 300\n",
    "# Facility candidates\n",
    "m = 10\n",
    "# Instance save to local file name\n",
    "fileName = \"test.dat\"\n",
    "# Generate instance\n",
    "instance = benders.generateInstance(n, m, fileName)"
   ]
  },
  {
   "cell_type": "code",
   "execution_count": 3,
   "metadata": {},
   "outputs": [],
   "source": [
    "# Read instance from local file (easier to repeat)\n",
    "instance = benders.readInstance(fileName)"
   ]
  },
  {
   "cell_type": "code",
   "execution_count": 4,
   "metadata": {},
   "outputs": [
    {
     "name": "stdout",
     "output_type": "stream",
     "text": [
      "Academic license - for non-commercial use only\n",
      "Optimize a model with 3300 rows, 3010 columns and 9000 nonzeros\n",
      "Variable types: 3000 continuous, 10 integer (10 binary)\n",
      "Coefficient statistics:\n",
      "  Matrix range     [1e+00, 1e+00]\n",
      "  Objective range  [5e+01, 3e+03]\n",
      "  Bounds range     [1e+00, 1e+00]\n",
      "  RHS range        [1e+00, 1e+00]\n",
      "Presolve time: 0.04s\n",
      "Presolved: 3300 rows, 3010 columns, 9000 nonzeros\n",
      "Variable types: 3000 continuous, 10 integer (10 binary)\n",
      "\n",
      "Root relaxation: objective 2.984817e+04, 1332 iterations, 0.03 seconds\n",
      "\n",
      "    Nodes    |    Current Node    |     Objective Bounds      |     Work\n",
      " Expl Unexpl |  Obj  Depth IntInf | Incumbent    BestBd   Gap | It/Node Time\n",
      "\n",
      "     0     0 29848.1667    0    8          - 29848.1667      -     -    0s\n",
      "H    0     0                    36104.000000 29848.1667  17.3%     -    0s\n",
      "H    0     0                    30180.000000 29848.1667  1.10%     -    0s\n",
      "     0     0 29862.3636    0    9 30180.0000 29862.3636  1.05%     -    0s\n",
      "     0     0 29872.9444    0    9 30180.0000 29872.9444  1.02%     -    0s\n",
      "     0     0 29873.9722    0    9 30180.0000 29873.9722  1.01%     -    0s\n",
      "     0     0 29874.2051    0    9 30180.0000 29874.2051  1.01%     -    0s\n",
      "     0     0 29878.6832    0    9 30180.0000 29878.6832  1.00%     -    0s\n",
      "     0     0 29879.0406    0    9 30180.0000 29879.0406  1.00%     -    0s\n",
      "     0     0 29879.1015    0    9 30180.0000 29879.1015  1.00%     -    0s\n",
      "     0     0 29879.1406    0    9 30180.0000 29879.1406  1.00%     -    0s\n",
      "     0     0 29879.4030    0    9 30180.0000 29879.4030  1.00%     -    0s\n",
      "     0     0 29879.4030    0    9 30180.0000 29879.4030  1.00%     -    0s\n",
      "     0     2 29879.4030    0    9 30180.0000 29879.4030  1.00%     -    0s\n",
      "\n",
      "Cutting planes:\n",
      "  Gomory: 6\n",
      "  MIR: 1\n",
      "\n",
      "Explored 3 nodes (1816 simplex iterations) in 0.42 seconds\n",
      "Thread count was 12 (of 12 available processors)\n",
      "\n",
      "Solution count 2: 30180 36104 \n",
      "\n",
      "Optimal solution found (tolerance 1.00e-04)\n",
      "Best objective 3.018000000000e+04, best bound 3.018000000000e+04, gap 0.0000%\n"
     ]
    },
    {
     "data": {
      "text/plain": [
       "{'ofv': 30180.0, 'y': [1, 2, 5, 9]}"
      ]
     },
     "execution_count": 4,
     "metadata": {},
     "output_type": "execute_result"
    }
   ],
   "source": [
    "# Directly use gruobi, which is extremely fast\n",
    "# This is not for comparison, gurobi are using some high-level techniques\n",
    "# This is for validating the optimal solution\n",
    "benders.directSolveProblem(instance)"
   ]
  },
  {
   "cell_type": "code",
   "execution_count": 5,
   "metadata": {},
   "outputs": [
    {
     "name": "stdout",
     "output_type": "stream",
     "text": [
      "Changed value of parameter lazyConstraints to 1\n",
      "   Prev: 0  Min: 0  Max: 1  Default: 0\n",
      "Add feasibility cut\n",
      "Add feasibility cut\n",
      "Add feasibility cut\n",
      "Add feasibility cut\n",
      "Add feasibility cut\n",
      "Add optimality cut\n",
      "Add optimality cut\n",
      "Add optimality cut\n",
      "Add optimality cut\n",
      "Add optimality cut\n",
      "Add optimality cut\n",
      "Add optimality cut\n",
      "Add optimality cut\n",
      "Add optimality cut\n",
      "Add optimality cut\n",
      "Add optimality cut\n",
      "Add optimality cut\n",
      "Add optimality cut\n",
      "Add optimality cut\n",
      "Add optimality cut\n",
      "Add optimality cut\n",
      "Add optimality cut\n",
      "Add optimality cut\n",
      "Add optimality cut\n",
      "Add optimality cut\n",
      "Add optimality cut\n",
      "Add optimality cut\n",
      "Add optimality cut\n",
      "Add optimality cut\n",
      "Add optimality cut\n",
      "Add optimality cut\n",
      "Add optimality cut\n",
      "{'ofv': 30180.000000000004, 'y': [1, 2, 5, 9]}\n",
      "Total time:  2.110891\n"
     ]
    }
   ],
   "source": [
    "# Use Pareto-optimal cuts to accelerate\n",
    "start = datetime.datetime.now()\n",
    "res = benders.masterProblem(instance, True)\n",
    "t = (datetime.datetime.now() - start).total_seconds()\n",
    "print(res)\n",
    "print(\"Total time: \", t)"
   ]
  },
  {
   "cell_type": "code",
   "execution_count": 6,
   "metadata": {},
   "outputs": [
    {
     "name": "stdout",
     "output_type": "stream",
     "text": [
      "Changed value of parameter lazyConstraints to 1\n",
      "   Prev: 0  Min: 0  Max: 1  Default: 0\n",
      "Add feasibility cut\n",
      "Add feasibility cut\n",
      "Add feasibility cut\n",
      "Add feasibility cut\n",
      "Add feasibility cut\n",
      "Add optimality cut\n",
      "Add optimality cut\n",
      "Add optimality cut\n",
      "Add optimality cut\n",
      "Add optimality cut\n",
      "Add optimality cut\n",
      "Add optimality cut\n",
      "Add optimality cut\n",
      "Add optimality cut\n",
      "Add optimality cut\n",
      "Add optimality cut\n",
      "Add optimality cut\n",
      "Add optimality cut\n",
      "Add optimality cut\n",
      "Add optimality cut\n",
      "Add optimality cut\n",
      "Add optimality cut\n",
      "Add optimality cut\n",
      "Add optimality cut\n",
      "Add optimality cut\n",
      "Add optimality cut\n",
      "Add optimality cut\n",
      "Add optimality cut\n",
      "Add optimality cut\n",
      "Add optimality cut\n",
      "Add optimality cut\n",
      "Add optimality cut\n",
      "Add optimality cut\n",
      "Add optimality cut\n",
      "Add optimality cut\n",
      "Add optimality cut\n",
      "Add optimality cut\n",
      "Add optimality cut\n",
      "Add optimality cut\n",
      "Add optimality cut\n",
      "Add optimality cut\n",
      "Add optimality cut\n",
      "Add optimality cut\n",
      "Add optimality cut\n",
      "Add optimality cut\n",
      "Add optimality cut\n",
      "Add optimality cut\n",
      "Add optimality cut\n",
      "Add optimality cut\n",
      "Add optimality cut\n",
      "Add optimality cut\n",
      "Add optimality cut\n",
      "Add optimality cut\n",
      "Add optimality cut\n",
      "Add optimality cut\n",
      "{'ofv': 30180.000000000004, 'y': [1, 2, 5, 9]}\n",
      "Total time:  4.008371\n"
     ]
    }
   ],
   "source": [
    "# Not using Pareto-optimal cuts\n",
    "start = datetime.datetime.now()\n",
    "res = benders.masterProblem(instance, False)\n",
    "t = (datetime.datetime.now() - start).total_seconds()\n",
    "print(res)\n",
    "print(\"Total time: \", t)"
   ]
  },
  {
   "cell_type": "code",
   "execution_count": null,
   "metadata": {},
   "outputs": [],
   "source": []
  }
 ],
 "metadata": {
  "kernelspec": {
   "display_name": "Python 3",
   "language": "python",
   "name": "python3"
  },
  "language_info": {
   "codemirror_mode": {
    "name": "ipython",
    "version": 3
   },
   "file_extension": ".py",
   "mimetype": "text/x-python",
   "name": "python",
   "nbconvert_exporter": "python",
   "pygments_lexer": "ipython3",
   "version": "3.7.2"
  }
 },
 "nbformat": 4,
 "nbformat_minor": 2
}
